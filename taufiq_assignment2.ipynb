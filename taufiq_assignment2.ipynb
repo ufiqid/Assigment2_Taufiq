{
 "cells": [
  {
   "cell_type": "markdown",
   "metadata": {
    "id": "tZ2lxZFYJ69Q"
   },
   "source": [
    "# **Assignment 2**:\n",
    "1. Buatlah notebook file dengan format <nama_assignment2.ipynb> yang berisi sebuah function untuk :\n",
    "  * Mereturn angka disuatu posisi berdasarkan bilangan pertama dari sebuah daftar angka-angka.\n",
    "  * Urutan posisi dimulai dari bilangan kedua.\n",
    "  * Jika bilangan pertama melebihi jumlah banyaknya daftar angka-angka, maka return **-1**.\n",
    "  * Input : daftar angka\n",
    "\n",
    "| No | Input | Output |\n",
    "| - | - | - |\n",
    "| 1 | (3, 10, 20, 30, 40) | 40 |\n",
    "| 2 | (0, -10, 10)| -10 |\n",
    "| 3 | (1, 2, 300, 10) | 300 |\n",
    "| 4 | (100, 200, 300, -400) | -1 |\n",
    "| 5 | (4, 200, 300, -400) | -1 |"
   ]
  },
  {
   "cell_type": "code",
   "execution_count": 51,
   "metadata": {
    "executionInfo": {
     "elapsed": 395,
     "status": "ok",
     "timestamp": 1731490115037,
     "user": {
      "displayName": "Dini Simanullang",
      "userId": "17888032599176137690"
     },
     "user_tz": -420
    },
    "id": "xHHiVxklRnPU"
   },
   "outputs": [],
   "source": [
    "def temukan_angka(daftar_angka):\n",
    "\n",
    "  posisi = daftar_angka[0]\n",
    "\n",
    "  if posisi >= len(daftar_angka):\n",
    "    return -1\n",
    "\n",
    "  return daftar_angka[posisi +1]"
   ]
  },
  {
   "cell_type": "code",
   "execution_count": 52,
   "metadata": {
    "colab": {
     "base_uri": "https://localhost:8080/"
    },
    "executionInfo": {
     "elapsed": 395,
     "status": "ok",
     "timestamp": 1731490119389,
     "user": {
      "displayName": "Dini Simanullang",
      "userId": "17888032599176137690"
     },
     "user_tz": -420
    },
    "id": "jpdB-WEwR86n",
    "outputId": "db4c6f88-d568-46cf-b9ef-dd527348da4e"
   },
   "outputs": [
    {
     "name": "stdout",
     "output_type": "stream",
     "text": [
      "40\n",
      "-10\n",
      "300\n",
      "-1\n",
      "-1\n"
     ]
    }
   ],
   "source": [
    "print(temukan_angka([3, 10, 20, 30, 40]))\n",
    "print(temukan_angka([0, -10, 10]))\n",
    "print(temukan_angka([1, 2, 300, 10]))\n",
    "print(temukan_angka([100, 200, 300, -400]))\n",
    "print(temukan_angka([4, 200, 300, -400]))"
   ]
  },
  {
   "cell_type": "markdown",
   "metadata": {
    "id": "Jbt1MUuV3B3R"
   },
   "source": [
    "2. Buat module Python bernama `rumus.py` yang berisi dua fungsi: satu untuk menghitung luas segitiga dan satu lagi untuk menghitung keliling segitiga. Gunakan module tersebut di notebook utama (pada soal no 1).\n",
    "\n",
    "Submit dilakukan dalam bentuk mengirimkan link github repository (public) ke google form."
   ]
  },
  {
   "cell_type": "code",
   "execution_count": null,
   "metadata": {
    "colab": {
     "base_uri": "https://localhost:8080/"
    },
    "executionInfo": {
     "elapsed": 403,
     "status": "ok",
     "timestamp": 1731491439791,
     "user": {
      "displayName": "Dini Simanullang",
      "userId": "17888032599176137690"
     },
     "user_tz": -420
    },
    "id": "9hhhE1Lb3ELi",
    "outputId": "017adaa7-2ea5-4e10-b26f-541021d10c4c"
   },
   "outputs": [
    {
     "data": {
      "text/plain": [
       "Traceback (most recent call last):\n",
       "  File \"c:\\Users\\thidayat\\.vscode\\extensions\\ms-python.python-2024.20.0-win32-x64\\python_files\\python_server.py\", line 130, in exec_user_input\n",
       "    retval = callable_(user_input, user_globals)\n",
       "  File \"<string>\", line 1, in <module>\n",
       "ModuleNotFoundError: No module named 'rumus'\n",
       "\n"
      ]
     },
     "metadata": {},
     "output_type": "display_data"
    }
   ],
   "source": [
    "from rumus import luas_segitiga, keliling_segitiga\n",
    "\n",
    "print(luas_segitiga(10,6))\n",
    "print(keliling_segitiga(10,5,7))\n"
   ]
  }
 ],
 "metadata": {
  "colab": {
   "authorship_tag": "ABX9TyPHk0OfaX1+hcuvUXmnXwyM",
   "provenance": []
  },
  "kernelspec": {
   "display_name": "Python 3",
   "name": "python3"
  },
  "language_info": {
   "name": "python"
  }
 },
 "nbformat": 4,
 "nbformat_minor": 0
}
